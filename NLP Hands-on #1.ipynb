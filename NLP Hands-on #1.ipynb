{
 "cells": [
  {
   "cell_type": "markdown",
   "metadata": {},
   "source": [
    "# <center>Natural Language Processing Hands-on # 1</center>\n",
    "<center><span style=\"font-weight: bold; font-size: 1.8rem;\">Representing words and sentences</span></center>"
   ]
  },
  {
   "cell_type": "markdown",
   "metadata": {},
   "source": [
    "Since most of the algorithms existing out there are designed to handle numerical data, they are hardly applicable on raw texts. However, it is definitely possible to convert a text to a numerical representation.\n",
    "\n",
    "Ideal representations should handle **semantic**, **polysemy**, **irony** and lots of other specificities of texts. Along the decades, many text representations have been introduced to handle as many specificities as possible.\n",
    "\n",
    "In this hands-on, you will have to convert a given corpus of texts to various representations and highlight their pros / cons."
   ]
  },
  {
   "cell_type": "markdown",
   "metadata": {},
   "source": [
    "# Installation of required packages"
   ]
  },
  {
   "cell_type": "markdown",
   "metadata": {},
   "source": [
    "The packages listed below should be installed. Using a virtual environment is highly recommended but not mandatory -- that is just good practice."
   ]
  },
  {
   "cell_type": "code",
   "execution_count": 5,
   "metadata": {
    "ExecuteTime": {
     "end_time": "2021-10-18T22:55:57.903290Z",
     "start_time": "2021-10-18T22:55:56.720039Z"
    }
   },
   "outputs": [
    {
     "name": "stderr",
     "output_type": "stream",
     "text": [
      "[nltk_data] Downloading package reuters to\n",
      "[nltk_data]     C:\\Users\\Rudyl\\AppData\\Roaming\\nltk_data...\n",
      "[nltk_data]   Package reuters is already up-to-date!\n"
     ]
    }
   ],
   "source": [
    "import random\n",
    "\n",
    "from pprint import pprint as pp\n",
    "\n",
    "import gensim\n",
    "import nltk\n",
    "import numpy as np\n",
    "import pandas as pd\n",
    "import scipy as sp\n",
    "\n",
    "from gensim.models import KeyedVectors\n",
    "from gensim.test.utils import datapath\n",
    "from sklearn.decomposition import TruncatedSVD\n",
    "from sklearn.decomposition import PCA\n",
    "\n",
    "import nltk\n",
    "# Uncomment the following line to download the reuters dataset\n",
    "nltk.download('reuters')\n",
    "from nltk.corpus import reuters\n",
    "\n",
    "START_TOKEN = '<START>'\n",
    "END_TOKEN = '<END>'\n",
    "\n",
    "np.random.seed(0)\n",
    "random.seed(0)"
   ]
  },
  {
   "cell_type": "markdown",
   "metadata": {},
   "source": [
    "**Note**: In NLP, we often add `<START>` and `<END>` tokens to represent the beginning and end of sentences, paragraphs or documents."
   ]
  },
  {
   "cell_type": "markdown",
   "metadata": {},
   "source": [
    "# Part 0 - Exploring the dataset"
   ]
  },
  {
   "cell_type": "markdown",
   "metadata": {},
   "source": [
    "The Reuters Corpus that we will use contains 10,788 news documents totaling 1.3 million words. The documents have been classified into 90 categories.\n",
    "\n",
    "Before diving into word representations, let's explore it a little bit and simply preprocess its texts to make it more suitable."
   ]
  },
  {
   "cell_type": "markdown",
   "metadata": {},
   "source": [
    "---"
   ]
  },
  {
   "cell_type": "markdown",
   "metadata": {},
   "source": [
    "We will need to standardize all texts before converting anything to a numerical representations, since it will reduce the vocabulary size. Modify the following function to:\n",
    "\n",
    "* Add the `START_TOKEN` and `END_TOKEN` at the beginning and end of each document\n",
    "* Lowercase every words\n",
    "* Remove the punctuation from each document"
   ]
  },
  {
   "cell_type": "code",
   "execution_count": 6,
   "metadata": {
    "ExecuteTime": {
     "end_time": "2021-10-18T22:20:38.319875Z",
     "start_time": "2021-10-18T22:20:38.310517Z"
    }
   },
   "outputs": [],
   "source": [
    "import string\n",
    "\n",
    "def read_corpus(category=\"tea\"):\n",
    "    \"\"\" Read files from the specified Reuter's category.\n",
    "        Params:\n",
    "            category (string): category name\n",
    "        Return:\n",
    "            list of lists, with words from each of the processed files\n",
    "    \"\"\"\n",
    "    files = reuters.fileids(category)\n",
    "    #word = [list(reuters.words(f)) for f in files]\n",
    "    word = list(reuters.words(files))\n",
    "                \n",
    "    for i in range(len(word)):\n",
    "        #Minuscules\n",
    "        word[i] = word[i].lower()\n",
    "        #Suppression de la ponctuation\n",
    "        word[i] = word[i].translate(str.maketrans('', '', string.punctuation))\n",
    "        #Tokenisation\n",
    "#         word[i] = START_TOKEN + word[i] + END_TOKEN\n",
    "\n",
    "\n",
    "    return [START_TOKEN] + word + [END_TOKEN]\n",
    "    \n",
    "    #return [list(reuters.words(f)) for f in files]"
   ]
  },
  {
   "cell_type": "code",
   "execution_count": 7,
   "metadata": {},
   "outputs": [
    {
     "data": {
      "text/plain": [
       "[0,\n",
       " 1,\n",
       " 2,\n",
       " 3,\n",
       " 4,\n",
       " 5,\n",
       " 6,\n",
       " 7,\n",
       " 8,\n",
       " 9,\n",
       " 10,\n",
       " 11,\n",
       " 12,\n",
       " 13,\n",
       " 14,\n",
       " 15,\n",
       " 16,\n",
       " 17,\n",
       " 18,\n",
       " 19,\n",
       " 20,\n",
       " 21,\n",
       " 22,\n",
       " 23,\n",
       " 24,\n",
       " 25,\n",
       " 26,\n",
       " 27,\n",
       " 28,\n",
       " 29,\n",
       " 30,\n",
       " 31,\n",
       " 32,\n",
       " 33,\n",
       " 34,\n",
       " 35,\n",
       " 36,\n",
       " 37,\n",
       " 38,\n",
       " 39,\n",
       " 40,\n",
       " 41,\n",
       " 42,\n",
       " 43,\n",
       " 44,\n",
       " 45,\n",
       " 46,\n",
       " 47,\n",
       " 48,\n",
       " 49,\n",
       " 50,\n",
       " 51,\n",
       " 52,\n",
       " 53,\n",
       " 54,\n",
       " 55,\n",
       " 56,\n",
       " 57,\n",
       " 58,\n",
       " 59,\n",
       " 60,\n",
       " 61,\n",
       " 62,\n",
       " 63,\n",
       " 64,\n",
       " 65,\n",
       " 66,\n",
       " 67,\n",
       " 68,\n",
       " 69,\n",
       " 70,\n",
       " 71,\n",
       " 72,\n",
       " 73,\n",
       " 74,\n",
       " 75,\n",
       " 76,\n",
       " 77,\n",
       " 78,\n",
       " 79,\n",
       " 80,\n",
       " 81,\n",
       " 82,\n",
       " 83,\n",
       " 84,\n",
       " 85,\n",
       " 86,\n",
       " 87,\n",
       " 88,\n",
       " 89,\n",
       " 90,\n",
       " 91,\n",
       " 92,\n",
       " 93,\n",
       " 94,\n",
       " 95,\n",
       " 96,\n",
       " 97,\n",
       " 98,\n",
       " 99]"
      ]
     },
     "execution_count": 7,
     "metadata": {},
     "output_type": "execute_result"
    }
   ],
   "source": [
    "#Liste de compréhension\n",
    "[i for i in range(100)]"
   ]
  },
  {
   "cell_type": "code",
   "execution_count": 8,
   "metadata": {},
   "outputs": [],
   "source": [
    "#[[START_TOKEN] + list(reuters.words(f)) + [END_TOKEN] for f in files]\n"
   ]
  },
  {
   "cell_type": "code",
   "execution_count": 9,
   "metadata": {
    "ExecuteTime": {
     "end_time": "2021-10-18T22:20:39.381188Z",
     "start_time": "2021-10-18T22:20:39.332826Z"
    }
   },
   "outputs": [
    {
     "data": {
      "text/plain": [
       "['<START>',\n",
       " 'pakistan',\n",
       " 'confirms',\n",
       " 'kenya',\n",
       " 'tea',\n",
       " 'import',\n",
       " 'investigation',\n",
       " 'pakistan',\n",
       " '',\n",
       " 's',\n",
       " 'corporate',\n",
       " 'law',\n",
       " 'authority',\n",
       " '',\n",
       " 'cla',\n",
       " '',\n",
       " 'has',\n",
       " 'begun',\n",
       " 'an',\n",
       " 'enquiry',\n",
       " 'into',\n",
       " 'imports',\n",
       " 'of',\n",
       " 'tea',\n",
       " 'from',\n",
       " 'kenya',\n",
       " 'and',\n",
       " 'the',\n",
       " 'trade',\n",
       " 'imbalance',\n",
       " 'between',\n",
       " 'the',\n",
       " 'two',\n",
       " 'countries',\n",
       " '',\n",
       " 'cla',\n",
       " 'chairman',\n",
       " 'irtiza',\n",
       " 'husain',\n",
       " 'confirmed',\n",
       " '',\n",
       " 'he',\n",
       " 'told',\n",
       " 'reuters',\n",
       " 'by',\n",
       " 'telephone',\n",
       " 'that',\n",
       " 'importers',\n",
       " 'liptons',\n",
       " 'and',\n",
       " 'brooke',\n",
       " 'bond',\n",
       " 'had',\n",
       " 'been',\n",
       " 'asked',\n",
       " 'to',\n",
       " 'supply',\n",
       " 'data',\n",
       " 'to',\n",
       " 'the',\n",
       " 'authority',\n",
       " 'and',\n",
       " 'a',\n",
       " 'hearing',\n",
       " 'would',\n",
       " 'be',\n",
       " 'held',\n",
       " '',\n",
       " 'the',\n",
       " 'cla',\n",
       " 'would',\n",
       " 'then',\n",
       " 'report',\n",
       " 'back',\n",
       " 'to',\n",
       " 'the',\n",
       " 'commerce',\n",
       " 'ministry',\n",
       " '',\n",
       " 'which',\n",
       " 'had',\n",
       " 'requested',\n",
       " 'the',\n",
       " 'enquiry',\n",
       " '',\n",
       " 'husain',\n",
       " 'said',\n",
       " 'no',\n",
       " 'date',\n",
       " 'had',\n",
       " 'yet',\n",
       " 'been',\n",
       " 'set',\n",
       " 'for',\n",
       " 'the',\n",
       " 'hearing',\n",
       " 'and',\n",
       " 'declined',\n",
       " 'to',\n",
       " 'give',\n",
       " 'further',\n",
       " 'details',\n",
       " 'of',\n",
       " 'the',\n",
       " 'matter',\n",
       " '',\n",
       " 'industry',\n",
       " 'sources',\n",
       " 'told',\n",
       " 'reuters',\n",
       " 'reports',\n",
       " 'that',\n",
       " 'the',\n",
       " 'companies',\n",
       " '',\n",
       " 'tea',\n",
       " 'import',\n",
       " 'licences',\n",
       " 'had',\n",
       " 'been',\n",
       " 'suspended',\n",
       " 'were',\n",
       " 'incorrect',\n",
       " '',\n",
       " 'sri',\n",
       " 'lankan',\n",
       " 'tea',\n",
       " 'workers',\n",
       " 'launch',\n",
       " 'one',\n",
       " '',\n",
       " 'day',\n",
       " 'protest',\n",
       " 'thousands',\n",
       " 'of',\n",
       " 'tea',\n",
       " 'workers',\n",
       " 'of',\n",
       " 'indian',\n",
       " 'origin',\n",
       " 'went',\n",
       " 'on',\n",
       " 'strike',\n",
       " 'today',\n",
       " 'to',\n",
       " 'press',\n",
       " 'demands',\n",
       " 'for',\n",
       " 'citizenship',\n",
       " 'and',\n",
       " 'voting',\n",
       " 'rights',\n",
       " 'in',\n",
       " 'sri',\n",
       " 'lanka',\n",
       " '',\n",
       " 'a',\n",
       " 'union',\n",
       " 'statement',\n",
       " 'said',\n",
       " '',\n",
       " 'the',\n",
       " 'ceylon',\n",
       " 'workers',\n",
       " 'congress',\n",
       " '',\n",
       " 'cwc',\n",
       " '',\n",
       " 'said',\n",
       " 'its',\n",
       " '400',\n",
       " '',\n",
       " '000',\n",
       " 'members',\n",
       " 'launched',\n",
       " 'a',\n",
       " 'prayer',\n",
       " 'campaign',\n",
       " 'at',\n",
       " 'temples',\n",
       " 'and',\n",
       " 'other',\n",
       " 'places',\n",
       " 'in',\n",
       " 'a',\n",
       " 'non',\n",
       " '',\n",
       " 'violent',\n",
       " 'protest',\n",
       " 'to',\n",
       " 'get',\n",
       " 'the',\n",
       " 'authorities',\n",
       " 'to',\n",
       " 'expedite',\n",
       " 'citizenship',\n",
       " 'procedures',\n",
       " '',\n",
       " 'a',\n",
       " 'cwc',\n",
       " 'spokesman',\n",
       " 'said',\n",
       " 'a',\n",
       " 'three',\n",
       " '',\n",
       " 'day',\n",
       " 'campaign',\n",
       " 'was',\n",
       " 'suspended',\n",
       " 'after',\n",
       " 'a',\n",
       " 'cabinet',\n",
       " 'committee',\n",
       " 'promised',\n",
       " 'to',\n",
       " 'speed',\n",
       " 'up',\n",
       " 'procedures',\n",
       " 'under',\n",
       " 'a',\n",
       " 'new',\n",
       " 'set',\n",
       " 'of',\n",
       " 'regulations',\n",
       " '',\n",
       " 'trade',\n",
       " 'sources',\n",
       " 'said',\n",
       " 'the',\n",
       " 'strike',\n",
       " 'did',\n",
       " 'not',\n",
       " 'affect',\n",
       " 'production',\n",
       " 'or',\n",
       " 'today',\n",
       " '',\n",
       " 's',\n",
       " 'colombo',\n",
       " 'auction',\n",
       " '',\n",
       " 'india',\n",
       " 'relaxes',\n",
       " 'rules',\n",
       " 'for',\n",
       " 'export',\n",
       " 'promotion',\n",
       " 'the',\n",
       " 'reserve',\n",
       " 'bank',\n",
       " 'of',\n",
       " 'india',\n",
       " '',\n",
       " 'rbi',\n",
       " '',\n",
       " 'announced',\n",
       " 'new',\n",
       " 'rules',\n",
       " 'to',\n",
       " 'allow',\n",
       " 'exporters',\n",
       " 'of',\n",
       " '25',\n",
       " 'products',\n",
       " 'to',\n",
       " 'use',\n",
       " 'foreign',\n",
       " 'exchange',\n",
       " 'up',\n",
       " 'to',\n",
       " '10',\n",
       " 'pct',\n",
       " 'of',\n",
       " 'their',\n",
       " 'firm',\n",
       " '',\n",
       " 's',\n",
       " 'total',\n",
       " 'annual',\n",
       " 'export',\n",
       " 'earnings',\n",
       " 'for',\n",
       " 'export',\n",
       " 'promotion',\n",
       " 'abroad',\n",
       " '',\n",
       " 'the',\n",
       " 'move',\n",
       " 'is',\n",
       " 'designed',\n",
       " 'by',\n",
       " 'the',\n",
       " 'government',\n",
       " 'to',\n",
       " 'improve',\n",
       " 'india',\n",
       " '',\n",
       " 's',\n",
       " 'trade',\n",
       " 'deficit',\n",
       " '',\n",
       " 'products',\n",
       " 'eligible',\n",
       " 'for',\n",
       " 'the',\n",
       " 'new',\n",
       " 'blanket',\n",
       " 'exchange',\n",
       " 'permit',\n",
       " 'scheme',\n",
       " 'include',\n",
       " 'tea',\n",
       " 'bags',\n",
       " '',\n",
       " 'cigarettes',\n",
       " '',\n",
       " 'coffee',\n",
       " '',\n",
       " 'leather',\n",
       " '',\n",
       " 'various',\n",
       " 'textiles',\n",
       " '',\n",
       " 'chemicals',\n",
       " '',\n",
       " 'pharmaceuticals',\n",
       " '',\n",
       " 'plastics',\n",
       " '',\n",
       " 'engineering',\n",
       " 'and',\n",
       " 'electronic',\n",
       " 'goods',\n",
       " '',\n",
       " 'ready',\n",
       " '',\n",
       " 'made',\n",
       " 'garments',\n",
       " '',\n",
       " 'processed',\n",
       " 'food',\n",
       " '',\n",
       " 'sports',\n",
       " 'goods',\n",
       " '',\n",
       " 'fabricated',\n",
       " 'mica',\n",
       " 'and',\n",
       " 'consultancy',\n",
       " 'services',\n",
       " '',\n",
       " 'the',\n",
       " 'scheme',\n",
       " 'replaces',\n",
       " 'current',\n",
       " 'rules',\n",
       " 'which',\n",
       " 'allow',\n",
       " 'different',\n",
       " 'amounts',\n",
       " 'of',\n",
       " 'foreign',\n",
       " 'exchange',\n",
       " 'to',\n",
       " 'be',\n",
       " 'used',\n",
       " 'only',\n",
       " 'when',\n",
       " 'firms',\n",
       " 'attain',\n",
       " 'a',\n",
       " 'minimum',\n",
       " 'annual',\n",
       " 'turnover',\n",
       " 'prescribed',\n",
       " 'for',\n",
       " 'each',\n",
       " 'product',\n",
       " '',\n",
       " 'rbi',\n",
       " 'said',\n",
       " 'under',\n",
       " 'the',\n",
       " 'new',\n",
       " 'rule',\n",
       " '',\n",
       " '16',\n",
       " 'other',\n",
       " 'products',\n",
       " 'will',\n",
       " 'qualify',\n",
       " '',\n",
       " 'on',\n",
       " 'a',\n",
       " 'discretionary',\n",
       " 'basis',\n",
       " '',\n",
       " 'for',\n",
       " 'overseas',\n",
       " 'promotional',\n",
       " 'spending',\n",
       " 'of',\n",
       " 'not',\n",
       " 'more',\n",
       " 'than',\n",
       " 'two',\n",
       " 'pct',\n",
       " 'of',\n",
       " 'the',\n",
       " 'freight',\n",
       " '',\n",
       " 'on',\n",
       " '',\n",
       " 'board',\n",
       " 'value',\n",
       " 'of',\n",
       " 'annual',\n",
       " 'export',\n",
       " 'earnings',\n",
       " '',\n",
       " 'these',\n",
       " 'include',\n",
       " 'oil',\n",
       " 'cakes',\n",
       " '',\n",
       " 'cereals',\n",
       " '',\n",
       " 'raw',\n",
       " 'cotton',\n",
       " '',\n",
       " 'raw',\n",
       " 'and',\n",
       " 'semi',\n",
       " '',\n",
       " 'processed',\n",
       " 'leather',\n",
       " '',\n",
       " 'gems',\n",
       " '',\n",
       " 'castor',\n",
       " 'and',\n",
       " 'sandalwood',\n",
       " 'oil',\n",
       " '',\n",
       " 'psyllium',\n",
       " 'husks',\n",
       " 'and',\n",
       " 'seeds',\n",
       " '',\n",
       " 'opium',\n",
       " 'and',\n",
       " 'various',\n",
       " 'mineral',\n",
       " 'ores',\n",
       " '',\n",
       " 'rbi',\n",
       " 'said',\n",
       " 'exporters',\n",
       " 'of',\n",
       " 'products',\n",
       " 'not',\n",
       " 'covered',\n",
       " 'by',\n",
       " 'either',\n",
       " 'of',\n",
       " 'the',\n",
       " 'two',\n",
       " 'groups',\n",
       " 'will',\n",
       " 'be',\n",
       " 'eligible',\n",
       " 'to',\n",
       " 'use',\n",
       " 'up',\n",
       " 'to',\n",
       " 'five',\n",
       " 'pct',\n",
       " 'of',\n",
       " 'their',\n",
       " 'freight',\n",
       " '',\n",
       " 'on',\n",
       " '',\n",
       " 'board',\n",
       " 'value',\n",
       " 'of',\n",
       " 'their',\n",
       " 'annual',\n",
       " 'export',\n",
       " 'earnings',\n",
       " '',\n",
       " 'industry',\n",
       " 'sources',\n",
       " 'said',\n",
       " 'the',\n",
       " 'new',\n",
       " 'entitlements',\n",
       " '',\n",
       " 'considerably',\n",
       " 'higher',\n",
       " 'than',\n",
       " 'the',\n",
       " 'previous',\n",
       " 'limits',\n",
       " '',\n",
       " 'are',\n",
       " 'also',\n",
       " 'more',\n",
       " 'flexible',\n",
       " 'because',\n",
       " 'holders',\n",
       " 'of',\n",
       " 'new',\n",
       " 'permits',\n",
       " 'no',\n",
       " 'longer',\n",
       " 'need',\n",
       " 'to',\n",
       " 'frequently',\n",
       " 'apply',\n",
       " 'to',\n",
       " 'rbi',\n",
       " 'for',\n",
       " 'release',\n",
       " 'of',\n",
       " 'foreign',\n",
       " 'exchange',\n",
       " 'for',\n",
       " 'export',\n",
       " 'purposes',\n",
       " '',\n",
       " 'state',\n",
       " 'to',\n",
       " 'control',\n",
       " '70',\n",
       " 'pct',\n",
       " 'of',\n",
       " 'pakistan',\n",
       " 'tea',\n",
       " 'imports',\n",
       " 'pakistan',\n",
       " 'announced',\n",
       " 'a',\n",
       " 'new',\n",
       " 'tea',\n",
       " 'import',\n",
       " 'policy',\n",
       " '',\n",
       " 'saying',\n",
       " '70',\n",
       " 'pct',\n",
       " 'of',\n",
       " 'imports',\n",
       " 'will',\n",
       " 'in',\n",
       " 'future',\n",
       " 'be',\n",
       " 'made',\n",
       " 'through',\n",
       " 'the',\n",
       " 'state',\n",
       " 'trading',\n",
       " 'corporation',\n",
       " 'of',\n",
       " 'pakistan',\n",
       " '',\n",
       " 'tcp',\n",
       " '',\n",
       " 'commerce',\n",
       " 'minister',\n",
       " 'mahbubul',\n",
       " 'haq',\n",
       " 'said',\n",
       " 'in',\n",
       " 'a',\n",
       " 'television',\n",
       " 'broadcast',\n",
       " 'that',\n",
       " 'no',\n",
       " 'more',\n",
       " 'than',\n",
       " 'one',\n",
       " '',\n",
       " 'third',\n",
       " 'of',\n",
       " 'the',\n",
       " 'remaining',\n",
       " '30',\n",
       " 'pct',\n",
       " 'allocated',\n",
       " 'to',\n",
       " 'the',\n",
       " 'private',\n",
       " 'sector',\n",
       " 'would',\n",
       " 'be',\n",
       " 'permitted',\n",
       " 'to',\n",
       " 'come',\n",
       " 'from',\n",
       " 'any',\n",
       " 'one',\n",
       " 'country',\n",
       " '',\n",
       " 'the',\n",
       " 'new',\n",
       " 'policy',\n",
       " 'was',\n",
       " 'announced',\n",
       " 'some',\n",
       " 'three',\n",
       " 'months',\n",
       " 'after',\n",
       " 'the',\n",
       " 'government',\n",
       " 'suspended',\n",
       " 'import',\n",
       " 'licences',\n",
       " 'and',\n",
       " 'ordered',\n",
       " 'an',\n",
       " 'inquiry',\n",
       " 'into',\n",
       " 'tea',\n",
       " 'purchase',\n",
       " 'policy',\n",
       " '',\n",
       " 'traders',\n",
       " 'said',\n",
       " 'the',\n",
       " 'move',\n",
       " 'was',\n",
       " 'designed',\n",
       " 'to',\n",
       " 'put',\n",
       " 'pressure',\n",
       " 'on',\n",
       " 'kenya',\n",
       " '',\n",
       " 'which',\n",
       " 'provided',\n",
       " 'some',\n",
       " '48',\n",
       " 'pct',\n",
       " 'of',\n",
       " 'pakistan',\n",
       " '',\n",
       " 's',\n",
       " '75',\n",
       " '',\n",
       " '80',\n",
       " 'mln',\n",
       " 'kilo',\n",
       " 'annual',\n",
       " 'tea',\n",
       " 'imports',\n",
       " '',\n",
       " 'to',\n",
       " 'buy',\n",
       " 'pakistani',\n",
       " 'manufactured',\n",
       " 'goods',\n",
       " 'in',\n",
       " 'exchange',\n",
       " '',\n",
       " 'liptons',\n",
       " 'and',\n",
       " 'brooke',\n",
       " 'bond',\n",
       " '',\n",
       " 'two',\n",
       " 'units',\n",
       " 'of',\n",
       " 'britain',\n",
       " '',\n",
       " 's',\n",
       " 'unilever',\n",
       " 'plc',\n",
       " '',\n",
       " 'control',\n",
       " '95',\n",
       " 'pct',\n",
       " 'of',\n",
       " 'pakistan',\n",
       " '',\n",
       " 's',\n",
       " 'hard',\n",
       " '',\n",
       " 'pack',\n",
       " 'tea',\n",
       " 'market',\n",
       " '',\n",
       " 'traders',\n",
       " 'said',\n",
       " '',\n",
       " 'haq',\n",
       " '',\n",
       " 'who',\n",
       " 'is',\n",
       " 'also',\n",
       " 'planning',\n",
       " 'minister',\n",
       " '',\n",
       " 'was',\n",
       " 'outlining',\n",
       " 'a',\n",
       " 'new',\n",
       " 'three',\n",
       " '',\n",
       " 'year',\n",
       " 'trade',\n",
       " 'policy',\n",
       " 'from',\n",
       " 'the',\n",
       " 'start',\n",
       " 'of',\n",
       " 'financial',\n",
       " '1987',\n",
       " '',\n",
       " '88',\n",
       " 'on',\n",
       " 'july',\n",
       " '1',\n",
       " '',\n",
       " 'india',\n",
       " 'steps',\n",
       " 'up',\n",
       " 'countertrade',\n",
       " 'deals',\n",
       " 'to',\n",
       " 'cut',\n",
       " 'trade',\n",
       " 'gap',\n",
       " 'india',\n",
       " 'is',\n",
       " 'searching',\n",
       " 'for',\n",
       " 'non',\n",
       " '',\n",
       " 'communist',\n",
       " 'countertrade',\n",
       " 'partners',\n",
       " 'to',\n",
       " 'help',\n",
       " 'it',\n",
       " 'cut',\n",
       " 'its',\n",
       " 'trade',\n",
       " 'deficit',\n",
       " 'and',\n",
       " 'conserve',\n",
       " 'foreign',\n",
       " 'exchange',\n",
       " '',\n",
       " 'wheat',\n",
       " '',\n",
       " 'tobacco',\n",
       " '',\n",
       " 'tea',\n",
       " '',\n",
       " 'coffee',\n",
       " '',\n",
       " 'jute',\n",
       " '',\n",
       " 'engineering',\n",
       " 'and',\n",
       " 'electronic',\n",
       " 'goods',\n",
       " '',\n",
       " 'as',\n",
       " 'well',\n",
       " 'as',\n",
       " 'minerals',\n",
       " 'including',\n",
       " 'iron',\n",
       " 'ore',\n",
       " '',\n",
       " 'are',\n",
       " 'all',\n",
       " 'on',\n",
       " 'offer',\n",
       " 'in',\n",
       " 'return',\n",
       " 'for',\n",
       " 'crude',\n",
       " 'oil',\n",
       " '',\n",
       " 'petroleum',\n",
       " 'products',\n",
       " '',\n",
       " 'chemicals',\n",
       " '',\n",
       " 'steel',\n",
       " 'and',\n",
       " 'machinery',\n",
       " '',\n",
       " 'trade',\n",
       " 'sources',\n",
       " 'told',\n",
       " 'reuters',\n",
       " '',\n",
       " 'most',\n",
       " 'of',\n",
       " 'the',\n",
       " 'impetus',\n",
       " 'behind',\n",
       " 'countertrade',\n",
       " '',\n",
       " 'which',\n",
       " 'began',\n",
       " 'in',\n",
       " '1984',\n",
       " '',\n",
       " 'comes',\n",
       " 'from',\n",
       " 'two',\n",
       " 'state',\n",
       " 'trading',\n",
       " 'firms',\n",
       " '',\n",
       " 'the',\n",
       " 'state',\n",
       " 'trading',\n",
       " 'corp',\n",
       " '',\n",
       " 'stc',\n",
       " '',\n",
       " 'and',\n",
       " 'the',\n",
       " 'minerals',\n",
       " 'and',\n",
       " 'metals',\n",
       " 'trading',\n",
       " 'corp',\n",
       " '',\n",
       " 'mmtc',\n",
       " '',\n",
       " '',\n",
       " 'the',\n",
       " 'two',\n",
       " 'state',\n",
       " 'trading',\n",
       " 'corporations',\n",
       " 'are',\n",
       " 'free',\n",
       " 'to',\n",
       " 'use',\n",
       " 'their',\n",
       " 'buying',\n",
       " 'power',\n",
       " 'in',\n",
       " 'respect',\n",
       " 'to',\n",
       " 'bulk',\n",
       " 'commodities',\n",
       " 'to',\n",
       " 'promote',\n",
       " 'indian',\n",
       " 'exports',\n",
       " '',\n",
       " 'a',\n",
       " 'commerce',\n",
       " 'ministry',\n",
       " 'spokeswoman',\n",
       " 'said',\n",
       " '',\n",
       " 'adding',\n",
       " 'that',\n",
       " 'private',\n",
       " 'firms',\n",
       " 'are',\n",
       " 'excluded',\n",
       " 'from',\n",
       " 'countertrading',\n",
       " '',\n",
       " 'one',\n",
       " 'trade',\n",
       " 'source',\n",
       " 'said',\n",
       " 'india',\n",
       " 'has',\n",
       " 'targetted',\n",
       " 'countries',\n",
       " 'that',\n",
       " 'depend',\n",
       " 'on',\n",
       " 'an',\n",
       " 'indian',\n",
       " 'domestic',\n",
       " 'market',\n",
       " 'recently',\n",
       " 'opened',\n",
       " 'to',\n",
       " 'foreign',\n",
       " 'imports',\n",
       " '',\n",
       " 'however',\n",
       " '',\n",
       " 'countertrade',\n",
       " 'deals',\n",
       " 'still',\n",
       " 'make',\n",
       " 'up',\n",
       " 'only',\n",
       " 'a',\n",
       " 'small',\n",
       " 'part',\n",
       " 'of',\n",
       " 'india',\n",
       " '',\n",
       " 's',\n",
       " 'total',\n",
       " 'trading',\n",
       " 'and',\n",
       " 'are',\n",
       " 'likely',\n",
       " 'to',\n",
       " 'account',\n",
       " 'for',\n",
       " 'less',\n",
       " 'than',\n",
       " 'eight',\n",
       " 'pct',\n",
       " 'of',\n",
       " 'the',\n",
       " 'estimated',\n",
       " '18',\n",
       " '',\n",
       " '53',\n",
       " 'billion',\n",
       " 'dlrs',\n",
       " 'in',\n",
       " 'trade',\n",
       " 'during',\n",
       " 'the',\n",
       " 'nine',\n",
       " 'months',\n",
       " 'ended',\n",
       " 'december',\n",
       " '',\n",
       " 'the',\n",
       " 'sources',\n",
       " 'said',\n",
       " '',\n",
       " 'countertrade',\n",
       " 'accounted',\n",
       " 'for',\n",
       " 'just',\n",
       " 'five',\n",
       " 'pct',\n",
       " 'of',\n",
       " 'india',\n",
       " '',\n",
       " 's',\n",
       " '25',\n",
       " '',\n",
       " '65',\n",
       " 'billion',\n",
       " 'dlrs',\n",
       " 'in',\n",
       " 'trade',\n",
       " 'during',\n",
       " 'fiscal',\n",
       " '1985',\n",
       " '',\n",
       " '86',\n",
       " 'ended',\n",
       " 'march',\n",
       " '',\n",
       " 'against',\n",
       " 'almost',\n",
       " 'nothing',\n",
       " 'in',\n",
       " '1984',\n",
       " '',\n",
       " '85',\n",
       " '',\n",
       " 'official',\n",
       " 'figures',\n",
       " 'show',\n",
       " '',\n",
       " 'however',\n",
       " '',\n",
       " 'the',\n",
       " 'figures',\n",
       " 'exclude',\n",
       " 'exchanges',\n",
       " 'with',\n",
       " 'the',\n",
       " 'eastern',\n",
       " 'bloc',\n",
       " 'paid',\n",
       " 'in',\n",
       " 'non',\n",
       " '',\n",
       " 'convertible',\n",
       " 'indian',\n",
       " 'rupees',\n",
       " '',\n",
       " 'the',\n",
       " ...]"
      ]
     },
     "execution_count": 9,
     "metadata": {},
     "output_type": "execute_result"
    }
   ],
   "source": [
    "corpus = read_corpus()\n",
    "corpus\n"
   ]
  },
  {
   "cell_type": "code",
   "execution_count": 10,
   "metadata": {
    "ExecuteTime": {
     "end_time": "2021-10-18T22:20:40.069771Z",
     "start_time": "2021-10-18T22:20:40.023236Z"
    }
   },
   "outputs": [
    {
     "name": "stdout",
     "output_type": "stream",
     "text": [
      "['<START>', 'pakistan']\n"
     ]
    }
   ],
   "source": [
    "pp(corpus[:2], compact=True)"
   ]
  },
  {
   "cell_type": "markdown",
   "metadata": {},
   "source": [
    "# Part I - Word representations"
   ]
  },
  {
   "cell_type": "markdown",
   "metadata": {},
   "source": [
    "Now that we have preprocessed our texts we can represent them using vectors, also called embeddings in this case.\n",
    "\n",
    "*Note: the preprocessing done here is basic. We will see in another hands-on different preprocessing steps, including some suitable for frequentist approaches.*"
   ]
  },
  {
   "cell_type": "markdown",
   "metadata": {},
   "source": [
    "---"
   ]
  },
  {
   "cell_type": "markdown",
   "metadata": {},
   "source": [
    "Each word representation has its pros and cons: understanding them will help you in finding the best representation that suits your use case. \n",
    "\n",
    "As a result, you will have to implement / load and analyze the behaviour of word vectors coming from:\n",
    "\n",
    "* Dummy encoding\n",
    "* Co-occurence matrix encoding\n",
    "* Pretrained GloVe encoding"
   ]
  },
  {
   "cell_type": "markdown",
   "metadata": {},
   "source": [
    "## Dummy encoding"
   ]
  },
  {
   "cell_type": "markdown",
   "metadata": {},
   "source": [
    "The dummy encoding consist in encoding each individual word of our corpus into a vector filled with 0 expect at a specific position where the value is 1 (equivalent to the encoding of categorical variables).\n",
    "\n",
    "As discussed during the course, those embeddings are kind of pointless since they don't handle a single element of the ideal word representation beside being actual vectors. They are however a good starting point to play around with texts.\n",
    "\n",
    "---\n",
    "\n",
    "Define a function converting the words of a corpus to a set of dummy encoded vectors. Do not forget to sort your vocabulary before assigning the vectors!"
   ]
  },
  {
   "cell_type": "code",
   "execution_count": 155,
   "metadata": {
    "ExecuteTime": {
     "end_time": "2021-10-18T23:14:38.935786Z",
     "start_time": "2021-10-18T23:14:38.919094Z"
    }
   },
   "outputs": [],
   "source": [
    "def dummy_encode(corpus):\n",
    "    \"\"\"One-hot encoding of a set of texts.\"\"\"\n",
    "    #Déclarer le one hot encoding\n",
    "    #Test pour push\n",
    "    return ..."
   ]
  },
  {
   "cell_type": "code",
   "execution_count": 11,
   "metadata": {},
   "outputs": [],
   "source": [
    "dummy_embeddings = dummy_encode(corpus)"
   ]
  },
  {
   "cell_type": "markdown",
   "metadata": {},
   "source": [
    "If you still do not believe that this representation is pointless, try finding the most similar word to \"cat\" using it."
   ]
  },
  {
   "cell_type": "markdown",
   "metadata": {},
   "source": [
    "## Co-occurence matrix encoding"
   ]
  },
  {
   "cell_type": "markdown",
   "metadata": {},
   "source": [
    "*This section comes from Stanford's NLP hands-on*"
   ]
  },
  {
   "cell_type": "markdown",
   "metadata": {},
   "source": [
    "A co-occurrence matrix counts how often things co-occur in some environment. Given some word  $w_i$  occurring in the document, we consider the context window surrounding  $w_i$ . Supposing our fixed window size is  $n$ , then this is the  $n$  preceding and  $n$  subsequent words in that document, i.e. words  $w_{i−n} … w_{i−1}$  and  $w_{i+1} … w{i+n}$ . We build a co-occurrence matrix  $M$ , which is a symmetric word-by-word matrix in which  $M_{ij}$  is the number of times  $w_j$  appears inside  $w_i$ 's window among all documents."
   ]
  },
  {
   "cell_type": "markdown",
   "metadata": {},
   "source": [
    "**Example: Co-Occurrence with Fixed Window of n=1:**\n",
    "\n",
    "* Document 1: \"all that glitters is not gold\"\n",
    "\n",
    "* Document 2: \"all is well that ends well\""
   ]
  },
  {
   "cell_type": "markdown",
   "metadata": {},
   "source": [
    "|        * \t| <START> \t| all \t| that \t| glitters \t| is \t| not \t| gold \t| well \t| ends \t| <END> \t|\n",
    "|---------:\t|--------:\t|----:\t|-----:\t|---------:\t|---:\t|----:\t|-----:\t|-----:\t|-----:\t|------:\t|\n",
    "|  <START> \t|       0 \t|   2 \t|    0 \t|        0 \t|  0 \t|   0 \t|    0 \t|    0 \t|    0 \t|     0 \t|\n",
    "|      all \t|       2 \t|   0 \t|    1 \t|        0 \t|  1 \t|   0 \t|    0 \t|    0 \t|    0 \t|     0 \t|\n",
    "|     that \t|       0 \t|   1 \t|    0 \t|        1 \t|  0 \t|   0 \t|    0 \t|    1 \t|    1 \t|     0 \t|\n",
    "| glitters \t|       0 \t|   0 \t|    1 \t|        0 \t|  1 \t|   0 \t|    0 \t|    0 \t|    0 \t|     0 \t|\n",
    "|       is \t|       0 \t|   1 \t|    0 \t|        1 \t|  0 \t|   1 \t|    0 \t|    1 \t|    0 \t|     0 \t|\n",
    "|      not \t|       0 \t|   0 \t|    0 \t|        0 \t|  1 \t|   0 \t|    1 \t|    0 \t|    0 \t|     0 \t|\n",
    "|     gold \t|       0 \t|   0 \t|    0 \t|        0 \t|  0 \t|   1 \t|    0 \t|    0 \t|    0 \t|     1 \t|\n",
    "|     well \t|       0 \t|   0 \t|    1 \t|        0 \t|  1 \t|   0 \t|    0 \t|    0 \t|    1 \t|     1 \t|\n",
    "|     ends \t|       0 \t|   0 \t|    1 \t|        0 \t|  0 \t|   0 \t|    0 \t|    1 \t|    0 \t|     0 \t|\n",
    "|    <END> \t|       0 \t|   0 \t|    0 \t|        0 \t|  0 \t|   0 \t|    1 \t|    1 \t|    0 \t|     0 \t|"
   ]
  },
  {
   "cell_type": "markdown",
   "metadata": {},
   "source": [
    "The rows (or columns) of this matrix provide one type of word vectors (those based on word-word co-occurrence), but the vectors will be large in general (linear in the number of distinct words in a corpus). Thus, our next step is to run dimensionality reduction. In particular, we will run *SVD* (Singular Value Decomposition), which is a kind of generalized *PCA* (Principal Components Analysis) to select the top  k  principal components."
   ]
  },
  {
   "cell_type": "markdown",
   "metadata": {},
   "source": [
    "Reducing the dimensionality of such vectors doesn't interterfere with the semantic relationship between words. Hence, *movie* will still be closer to *theater* than to *airplane*."
   ]
  },
  {
   "cell_type": "markdown",
   "metadata": {},
   "source": [
    "### Identify distinct words"
   ]
  },
  {
   "cell_type": "markdown",
   "metadata": {},
   "source": [
    "Define a function that will return a list of unique words of the corpus as well as its size."
   ]
  },
  {
   "cell_type": "code",
   "execution_count": 49,
   "metadata": {
    "ExecuteTime": {
     "end_time": "2021-10-18T23:29:44.233392Z",
     "start_time": "2021-10-18T23:29:44.214566Z"
    }
   },
   "outputs": [],
   "source": [
    "def distinct_words(corpus):\n",
    "    \"\"\" Determine a list of distinct words for the corpus.\n",
    "        Params:\n",
    "            corpus (list of list of strings): corpus of documents\n",
    "        Return:\n",
    "            corpus_words (list of strings): list of distinct words across the corpus, sorted (using python 'sorted' function)\n",
    "            num_corpus_words (integer): number of distinct words across the corpus\n",
    "    \"\"\"\n",
    "    corpus_words = []\n",
    "    num_corpus_words = -1\n",
    "    \n",
    "    # ------------------\n",
    "    # Write your implementation here.\n",
    "    \n",
    "\n",
    "    # ------------------\n",
    "\n",
    "    return corpus_words, num_corpus_words"
   ]
  },
  {
   "cell_type": "markdown",
   "metadata": {},
   "source": [
    "### Compute the co-occurence matrix "
   ]
  },
  {
   "cell_type": "markdown",
   "metadata": {},
   "source": [
    "Write a method that constructs a co-occurrence matrix for a certain window-size  $n$  (with a default of $4$), considering words  $n$  before and  $n$  after the word in the center of the window."
   ]
  },
  {
   "cell_type": "code",
   "execution_count": 50,
   "metadata": {
    "ExecuteTime": {
     "end_time": "2021-10-18T23:32:16.377062Z",
     "start_time": "2021-10-18T23:32:16.354704Z"
    }
   },
   "outputs": [],
   "source": [
    "def compute_co_occurrence_matrix(corpus, window_size=4):\n",
    "    \"\"\" Compute co-occurrence matrix for the given corpus and window_size (default of 4).\n",
    "    \n",
    "        Note: Each word in a document should be at the center of a window. Words near edges will have a smaller\n",
    "              number of co-occurring words.\n",
    "              \n",
    "              For example, if we take the document \"<START> All that glitters is not gold <END>\" with window size of 4,\n",
    "              \"All\" will co-occur with \"<START>\", \"that\", \"glitters\", \"is\", and \"not\".\n",
    "    \n",
    "        Params:\n",
    "            corpus (list of list of strings): corpus of documents\n",
    "            window_size (int): size of context window\n",
    "        Return:\n",
    "            M (a symmetric numpy matrix of shape (number of unique words in the corpus , number of unique words in the corpus)): \n",
    "                Co-occurence matrix of word counts. \n",
    "                The ordering of the words in the rows/columns should be the same as the ordering of the words given by the distinct_words function.\n",
    "            word2Ind (dict): dictionary that maps word to index (i.e. row/column number) for matrix M.\n",
    "    \"\"\"\n",
    "    words, num_words = distinct_words(corpus)\n",
    "    M = None\n",
    "    word2Ind = {}\n",
    "    \n",
    "    # ------------------\n",
    "    # Write your implementation here.\n",
    "\n",
    "\n",
    "    # ------------------\n",
    "\n",
    "    return M, word2Ind"
   ]
  },
  {
   "cell_type": "markdown",
   "metadata": {},
   "source": [
    "### Reduce the dimensionality of the co-occurence matrix"
   ]
  },
  {
   "cell_type": "markdown",
   "metadata": {},
   "source": [
    "Construct a method that performs dimensionality reduction on the matrix to produce $k$-dimensional embeddings. Use *SVD* to take the top $k$ components and produce a new matrix of $k$-dimensional embeddings.\n",
    "\n",
    "In our case, we will set $k=2$."
   ]
  },
  {
   "cell_type": "code",
   "execution_count": 51,
   "metadata": {
    "ExecuteTime": {
     "end_time": "2021-10-18T23:36:01.823050Z",
     "start_time": "2021-10-18T23:36:01.802519Z"
    }
   },
   "outputs": [],
   "source": [
    "def reduce_to_k_dim(M, k=2):\n",
    "    \"\"\" Reduce a co-occurence count matrix of dimensionality (num_corpus_words, num_corpus_words)\n",
    "        to a matrix of dimensionality (num_corpus_words, k) using the following SVD function from Scikit-Learn:\n",
    "            - http://scikit-learn.org/stable/modules/generated/sklearn.decomposition.TruncatedSVD.html\n",
    "    \n",
    "        Params:\n",
    "            M (numpy matrix of shape (number of unique words in the corpus , number of unique words in the corpus)): co-occurence matrix of word counts\n",
    "            k (int): embedding size of each word after dimension reduction\n",
    "        Return:\n",
    "            M_reduced (numpy matrix of shape (number of corpus words, k)): matrix of k-dimensioal word embeddings.\n",
    "                    In terms of the SVD from math class, this actually returns U * S\n",
    "    \"\"\"    \n",
    "    n_iters = 10     # Use this parameter in your call to `TruncatedSVD`\n",
    "    M_reduced = None\n",
    "    print(\"Running Truncated SVD over %i words...\" % (M.shape[0]))\n",
    "    \n",
    "        # ------------------\n",
    "        # Write your implementation here.\n",
    "    \n",
    "    \n",
    "        # ------------------\n",
    "\n",
    "    print(\"Done.\")\n",
    "    return M_reduced"
   ]
  },
  {
   "cell_type": "markdown",
   "metadata": {},
   "source": [
    "---"
   ]
  },
  {
   "cell_type": "markdown",
   "metadata": {},
   "source": [
    "Great! You now have fix-sized vectors that represent each words of your corpus. Let's normalize our matrix to compare our vectors easily."
   ]
  },
  {
   "cell_type": "code",
   "execution_count": null,
   "metadata": {},
   "outputs": [],
   "source": [
    "# Rescale (normalize) the rows to make them each of unit-length\n",
    "M_lengths = np.linalg.norm(M_reduced_co_occurrence, axis=1)\n",
    "M_normalized = M_reduced_co_occurrence / M_lengths[:, np.newaxis] # broadcasting"
   ]
  },
  {
   "cell_type": "markdown",
   "metadata": {},
   "source": [
    "Since we are working with vectors, we can easily measure the similarity between them using the dot product. Hence, given a specific word and its related word embedding, we can easily identify its most similar words contained in the corpus!\n",
    "\n",
    "*Note: the dot product between two vectors is bounded between -1 and 1 and the dot product of two identical vectors is equal to 1.*"
   ]
  },
  {
   "cell_type": "markdown",
   "metadata": {},
   "source": [
    "Define a function that given a word $w$ identify its most similar words in your embedding space."
   ]
  },
  {
   "cell_type": "code",
   "execution_count": null,
   "metadata": {},
   "outputs": [],
   "source": [
    "def most_similar(word, matrix, topn=10):\n",
    "    \"\"\"Return the words that have the closest embedding to the queried word.\"\"\"\n",
    "    \n",
    "    ...\n",
    "    \n",
    "    return ranked_words[:topn]"
   ]
  },
  {
   "cell_type": "markdown",
   "metadata": {},
   "source": [
    "## GloVe encoding"
   ]
  },
  {
   "cell_type": "markdown",
   "metadata": {},
   "source": [
    "Word2Vec models are predictive by essence, since it is a neural network. However, this is not the sole method to learn geometrical encodings (vectors) of words from their co-occurrence information (how frequently they appear together in large text corpora).\n",
    "\n",
    "GloVe is a count-based model that learn their vectors by essentially doing dimensionality reduction on the co-occurrence counts matrix. Does it remind you of something? Yes, that's exactly what you did above.\n",
    "\n",
    "Building models is time consuming. Hence, GloVe / Word2Vec models already trained on regular training sets (Wikipedia, News, etc.) are publicly shared to be reused easily.\n",
    "\n",
    "The below code will load a Glove model trained on wikipedia and allow us inspect easily the embeddings properties."
   ]
  },
  {
   "cell_type": "code",
   "execution_count": 1,
   "metadata": {
    "ExecuteTime": {
     "end_time": "2021-10-18T22:47:19.997494Z",
     "start_time": "2021-10-18T22:47:19.315155Z"
    }
   },
   "outputs": [],
   "source": [
    "import gensim.downloader as api"
   ]
  },
  {
   "cell_type": "code",
   "execution_count": 30,
   "metadata": {
    "ExecuteTime": {
     "end_time": "2021-10-18T22:56:08.865842Z",
     "start_time": "2021-10-18T22:56:08.488793Z"
    }
   },
   "outputs": [
    {
     "name": "stdout",
     "output_type": "stream",
     "text": [
      "['fasttext-wiki-news-subwords-300',\n",
      " 'conceptnet-numberbatch-17-06-300',\n",
      " 'word2vec-ruscorpora-300',\n",
      " 'word2vec-google-news-300',\n",
      " 'glove-wiki-gigaword-50',\n",
      " 'glove-wiki-gigaword-100',\n",
      " 'glove-wiki-gigaword-200',\n",
      " 'glove-wiki-gigaword-300',\n",
      " 'glove-twitter-25',\n",
      " 'glove-twitter-50',\n",
      " 'glove-twitter-100',\n",
      " 'glove-twitter-200',\n",
      " '__testing_word2vec-matrix-synopsis']\n"
     ]
    }
   ],
   "source": [
    "# List all pretrained models available on gensim*\n",
    "pp(list(api.info()[\"models\"].keys()))"
   ]
  },
  {
   "cell_type": "code",
   "execution_count": 19,
   "metadata": {
    "ExecuteTime": {
     "end_time": "2021-10-18T22:50:53.003715Z",
     "start_time": "2021-10-18T22:50:25.811223Z"
    }
   },
   "outputs": [
    {
     "name": "stdout",
     "output_type": "stream",
     "text": [
      "[==================================================] 100.0% 66.0/66.0MB downloaded\n"
     ]
    }
   ],
   "source": [
    "model = api.load('glove-wiki-gigaword-50')"
   ]
  },
  {
   "cell_type": "markdown",
   "metadata": {},
   "source": [
    "You can get the most similar embeddings to those of a given set of words. \n",
    "Here, we retrieve the most similar words to fox, rabbit and cat."
   ]
  },
  {
   "cell_type": "code",
   "execution_count": 46,
   "metadata": {
    "ExecuteTime": {
     "end_time": "2021-10-18T23:05:44.269302Z",
     "start_time": "2021-10-18T23:05:44.241616Z"
    }
   },
   "outputs": [
    {
     "name": "stdout",
     "output_type": "stream",
     "text": [
      "[('dog', 0.8569531440734863), ('mouse', 0.7859790921211243),\n",
      " ('monster', 0.7710846066474915), ('wolf', 0.7690606713294983),\n",
      " ('bunny', 0.765525221824646), ('spider', 0.7395666241645813),\n",
      " ('duck', 0.7366620898246765), ('rat', 0.7366542220115662),\n",
      " ('beast', 0.7319128513336182), ('cartoon', 0.724099338054657)]\n"
     ]
    }
   ],
   "source": [
    "pp(model.most_similar(positive=[\"fox\", \"rabbit\", \"cat\"]), compact=True)"
   ]
  },
  {
   "cell_type": "markdown",
   "metadata": {},
   "source": [
    "You can also perform concept additions / soustractions. For instance, you can "
   ]
  },
  {
   "cell_type": "code",
   "execution_count": 47,
   "metadata": {
    "ExecuteTime": {
     "end_time": "2021-10-18T23:06:51.602919Z",
     "start_time": "2021-10-18T23:06:51.577069Z"
    }
   },
   "outputs": [
    {
     "data": {
      "text/plain": [
       "[('queen', 0.8523604273796082), ('throne', 0.7664334177970886), ('prince', 0.7592144012451172), ('daughter', 0.7473883628845215), ('elizabeth', 0.7460219860076904), ('princess', 0.7424570322036743), ('kingdom', 0.7337412238121033), ('monarch', 0.721449077129364), ('eldest', 0.7184861898422241), ('widow', 0.7099431157112122)]"
      ]
     },
     "execution_count": 47,
     "metadata": {},
     "output_type": "execute_result"
    }
   ],
   "source": [
    "model.most_similar(positive=[\"king\", \"woman\"], negative=[\"man\"])"
   ]
  },
  {
   "cell_type": "markdown",
   "metadata": {},
   "source": [
    "Explore those embeddings and comment on how they help to identify / handle:\n",
    "\n",
    "* Synonyms\n",
    "* Antonyms\n",
    "* Grammatical errors\n",
    "* Polysemy\n",
    "* Irony\n",
    "* Analogies"
   ]
  },
  {
   "cell_type": "markdown",
   "metadata": {},
   "source": []
  },
  {
   "cell_type": "markdown",
   "metadata": {},
   "source": [
    "---"
   ]
  },
  {
   "cell_type": "markdown",
   "metadata": {},
   "source": [
    "Where do you think those biases come from?"
   ]
  },
  {
   "cell_type": "markdown",
   "metadata": {},
   "source": [
    "# Part II - Sentence representations"
   ]
  },
  {
   "cell_type": "markdown",
   "metadata": {},
   "source": [
    "## TF-IDF"
   ]
  },
  {
   "cell_type": "markdown",
   "metadata": {},
   "source": [
    "The TF-IDF is a methodology aiming at finding the most significative words in each document by comparing their in-document frequency to the overall frequency of that term in the whole corpus."
   ]
  },
  {
   "cell_type": "markdown",
   "metadata": {
    "ExecuteTime": {
     "end_time": "2021-10-18T22:59:07.229677Z",
     "start_time": "2021-10-18T22:59:07.216681Z"
    }
   },
   "source": [
    "---"
   ]
  },
  {
   "cell_type": "markdown",
   "metadata": {
    "ExecuteTime": {
     "end_time": "2021-10-18T23:00:10.087467Z",
     "start_time": "2021-10-18T23:00:10.074094Z"
    }
   },
   "source": [
    "Convert the reuters corpus (at least one category) to its TF-IDF representation using [scikit-learn](https://scikit-learn.org/stable/modules/generated/sklearn.feature_extraction.text.TfidfVectorizer.html). Beware of all the parameters of the methods! They might have significant impact on what you're doing."
   ]
  },
  {
   "cell_type": "code",
   "execution_count": null,
   "metadata": {},
   "outputs": [],
   "source": []
  },
  {
   "cell_type": "markdown",
   "metadata": {},
   "source": [
    "Once you have converted your corpus using the TF-IDF methodology, create a function identifying the most relevant comments given a search query."
   ]
  },
  {
   "cell_type": "code",
   "execution_count": null,
   "metadata": {},
   "outputs": [],
   "source": [
    "def search_corpus(corpus, search_query, topn=10):\n",
    "    \"\"\"Retrieve the top n documents matching a search query within a list of texts.\n",
    "    \n",
    "    \"\"\"\n",
    "    \n",
    "    tfidf_corpus = TfidfVectorizer(...)\n",
    "    \n",
    "    ...\n",
    "    \n",
    "    return ranked_articles[:topn]"
   ]
  },
  {
   "cell_type": "markdown",
   "metadata": {},
   "source": [
    "## Unsupervised Random Walk Sentence Embeddings"
   ]
  },
  {
   "cell_type": "markdown",
   "metadata": {},
   "source": [
    "This approach has been presented by Kawin Ethayarajh in 2018. The key idea behind this methodology is to take a weighted average of previously trained word embeddings and modify it with SVD (Singular Value Decomposition, a kind of generalization of the PCA)."
   ]
  },
  {
   "cell_type": "markdown",
   "metadata": {},
   "source": [
    "By having a look at [this implementation](https://github.com/kawine/usif), try to compute the uSIF embeddings of our corpus and compare their properties to the TF-IDF / Averaged Word2Vec ones. \n",
    "\n",
    "Consider digging in the [related paper](https://aclanthology.org/W18-3012.pdf) if you want to know more about the methodology."
   ]
  },
  {
   "cell_type": "markdown",
   "metadata": {},
   "source": []
  }
 ],
 "metadata": {
  "kernelspec": {
   "display_name": "Python 3",
   "language": "python",
   "name": "python3"
  },
  "language_info": {
   "codemirror_mode": {
    "name": "ipython",
    "version": 3
   },
   "file_extension": ".py",
   "mimetype": "text/x-python",
   "name": "python",
   "nbconvert_exporter": "python",
   "pygments_lexer": "ipython3",
   "version": "3.7.6"
  },
  "varInspector": {
   "cols": {
    "lenName": 16,
    "lenType": 16,
    "lenVar": 40
   },
   "kernels_config": {
    "python": {
     "delete_cmd_postfix": "",
     "delete_cmd_prefix": "del ",
     "library": "var_list.py",
     "varRefreshCmd": "print(var_dic_list())"
    },
    "r": {
     "delete_cmd_postfix": ") ",
     "delete_cmd_prefix": "rm(",
     "library": "var_list.r",
     "varRefreshCmd": "cat(var_dic_list()) "
    }
   },
   "types_to_exclude": [
    "module",
    "function",
    "builtin_function_or_method",
    "instance",
    "_Feature"
   ],
   "window_display": false
  }
 },
 "nbformat": 4,
 "nbformat_minor": 5
}
